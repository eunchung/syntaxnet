{
 "cells": [
  {
   "cell_type": "markdown",
   "metadata": {},
   "source": [
    "SyntaxNet\n",
    "====\n",
    "\n",
    "순서\n",
    "----\n",
    "1. 자연어처리의 각 컴포넌트들\n",
    "2. 구문 분석을 통해 가능한 일\n",
    "3. 구문 분석 기술 발전\n",
    "4. 딥러닝을 이용한 구문 분석기\n",
    "5. SyntaxNet\n",
    "6. 차별성 및 실험 결과\n",
    "\n",
    "<img src=\"http://t1.daumcdn.net/liveboard/emoticon/kakaofriends/v3/ryan/003.gif\" width=300/>\n",
    "\n",
    "## 1. 자연어처리의 각 컴포넌트들\n",
    "\n",
    "NLTK 패키지를 설치합니다.\n",
    "\n",
    "```bash\n",
    "pip install nltk\n",
    "```\n",
    "\n",
    "### 문장 분리 및 토크나이징"
   ]
  },
  {
   "cell_type": "code",
   "execution_count": 1,
   "metadata": {
    "collapsed": false
   },
   "outputs": [],
   "source": [
    "import nltk\n",
    "# nltk.download()"
   ]
  },
  {
   "cell_type": "code",
   "execution_count": 2,
   "metadata": {
    "collapsed": false
   },
   "outputs": [
    {
     "name": "stdout",
     "output_type": "stream",
     "text": [
      "========== SENTENCES ==========\n",
      "To you I'm nothing more than a fox like a hundred thousand other foxes.\n",
      "But if you tame me, then we shall need each other.\n",
      "========== TOKENIZED ==========\n",
      "To you I 'm nothing more than a fox like a hundred thousand other foxes .\n",
      "But if you tame me , then we shall need each other .\n"
     ]
    }
   ],
   "source": [
    "raw = \"To you I'm nothing more than a fox like a hundred thousand other foxes. But if you tame me, then we shall need each other.\"\n",
    "\n",
    "sent_detector = nltk.data.load('tokenizers/punkt/english.pickle')\n",
    "sents = sent_detector.tokenize(raw)\n",
    "\n",
    "print '========== SENTENCES =========='\n",
    "print '\\n'.join(sents)\n",
    "\n",
    "print '========== TOKENIZED =========='\n",
    "tokenized_sents = []\n",
    "for sent in sents:\n",
    "    words = nltk.word_tokenize(sent)\n",
    "    tokenized_sents.append(words)\n",
    "    print ' '.join(words)"
   ]
  },
  {
   "cell_type": "markdown",
   "metadata": {},
   "source": [
    "<img src=\"https://encrypted-tbn0.gstatic.com/images?q=tbn:ANd9GcS0xZugC1F8Eud0FUXxDkvRo2T9wroGWbKO9R5wdB1Nu0Fq4YdE1Q\" width=300/>"
   ]
  },
  {
   "cell_type": "markdown",
   "metadata": {},
   "source": [
    "### 형태소 분석"
   ]
  },
  {
   "cell_type": "code",
   "execution_count": 3,
   "metadata": {
    "collapsed": false
   },
   "outputs": [
    {
     "name": "stdout",
     "output_type": "stream",
     "text": [
      "To/TO you/PRP I/PRP 'm/VBP nothing/NN more/JJR than/IN a/DT fox/NN like/IN a/DT hundred/CD thousand/CD other/JJ foxes/NNS ./.\n",
      "But/CC if/IN you/PRP tame/VBP me/PRP ,/, then/RB we/PRP shall/MD need/VB each/DT other/JJ ./.\n"
     ]
    }
   ],
   "source": [
    "tagged_sents = []\n",
    "for tokens in tokenized_sents:\n",
    "    tagged_pairs = nltk.pos_tag(tokens)\n",
    "    tagged_sents.append(tagged_pairs)\n",
    "    print ' '.join(['%s/%s' % (word, tag) for word, tag in tagged_pairs])"
   ]
  },
  {
   "cell_type": "markdown",
   "metadata": {},
   "source": [
    "<img src=\"http://core0.staticworld.net/images/article/2014/04/blank-tag-isolated-on-white-95754104-100264644-primary.idge.jpg\" width=300/>"
   ]
  },
  {
   "cell_type": "markdown",
   "metadata": {},
   "source": [
    "### 구문 분석\n",
    "\n",
    "맥에서 HomeBrew를 이용해 다음과 같이 설치해 줍니다.\n",
    "\n",
    "```bash\n",
    "brew install stanford-parser\n",
    "cd /usr/local/Cellar/stanford-parser/3.5.2/libexec\n",
    "mkdir models\n",
    "cd models\n",
    "jar xf ../stanford-parser-3.5.2-models.jar\n",
    "```\n",
    "\n",
    "혹은 수동으로 다음과 같이 설치해 줍니다.\n",
    "\n",
    "```bash\n",
    "wget http://nlp.stanford.edu/software/stanford-parser-full-2015-12-09.zip\n",
    "mkdir -p $HOME/nltk_data/parsers\n",
    "mv stanford-parser-full-2015-12-09.zip $HOME/nltk_data/parsers\n",
    "cd $HOME/nltk_data/parsers\n",
    "unzip stanford-parser-full-2015-12-09.zip\n",
    "cd stanford-parser-full-2015-12-09\n",
    "mkdir models\n",
    "cd models\n",
    "jar xf ../stanford-parser-3.6.0-models.jar\n",
    "```"
   ]
  },
  {
   "cell_type": "code",
   "execution_count": 4,
   "metadata": {
    "collapsed": false
   },
   "outputs": [
    {
     "name": "stdout",
     "output_type": "stream",
     "text": [
      "(ROOT\n",
      "  (S\n",
      "    (PP (TO To) (NP (PRP you)))\n",
      "    (NP (PRP I))\n",
      "    (VP\n",
      "      (VBP 'm)\n",
      "      (ADJP\n",
      "        (ADJP (NN nothing) (JJR more))\n",
      "        (PP\n",
      "          (IN than)\n",
      "          (NP\n",
      "            (NP (DT a) (NN fox))\n",
      "            (PP\n",
      "              (IN like)\n",
      "              (NP\n",
      "                (DT a)\n",
      "                (QP (CD hundred) (CD thousand))\n",
      "                (JJ other)\n",
      "                (NNS foxes)))))))\n",
      "    (. .)))\n",
      "(ROOT\n",
      "  (S\n",
      "    (CC But)\n",
      "    (SBAR (IN if) (S (NP (PRP you)) (VP (VBP tame) (NP (PRP me)))))\n",
      "    (, ,)\n",
      "    (ADVP (RB then))\n",
      "    (NP (PRP we))\n",
      "    (VP (MD shall) (VP (VB need) (NP (DT each) (JJ other))))\n",
      "    (. .)))\n"
     ]
    }
   ],
   "source": [
    "import os\n",
    "from nltk.parse import stanford\n",
    "if False:\n",
    "    # for HomeBrew installation\n",
    "    STANFORD_DIR = '/usr/local/Cellar/stanford-parser/3.5.2'\n",
    "    os.environ['STANFORD_PARSER'] = '%s/libexec/stanford-parser.jar' % STANFORD_DIR\n",
    "    os.environ['STANFORD_MODELS'] = '%s/libexec/stanford-parser-3.5.2-models.jar' % STANFORD_DIR\n",
    "    parser = stanford.StanfordParser(model_path='%s/libexec/models/edu/stanford/nlp/models/lexparser/englishPCFG.ser.gz' % STANFORD_DIR)\n",
    "else:\n",
    "    # for manual installation\n",
    "    STANFORD_DIR = '%s/nltk_data/parsers/stanford-parser-full-2015-12-09' % os.environ['HOME']\n",
    "    os.environ['STANFORD_PARSER'] = '%s/stanford-parser.jar' % STANFORD_DIR\n",
    "    os.environ['STANFORD_MODELS'] = '%s/stanford-parser-3.6.0-models.jar' % STANFORD_DIR\n",
    "    parser = stanford.StanfordParser(model_path='%s/models/edu/stanford/nlp/models/lexparser/englishPCFG.ser.gz' % STANFORD_DIR)\n",
    "\n",
    "parsed_sents = []\n",
    "for tree in parser.tagged_parse_sents(tagged_sents):\n",
    "    tree_sent = '\\n'.join([str(_) for _ in tree])\n",
    "    parsed_sents.append(tree_sent)\n",
    "    print tree_sent"
   ]
  },
  {
   "cell_type": "code",
   "execution_count": 5,
   "metadata": {
    "collapsed": false
   },
   "outputs": [
    {
     "data": {
      "image/png": "[encoded data removed]",
      "text/plain": [
       "<IPython.core.display.Image object>"
      ]
     },
     "metadata": {},
     "output_type": "display_data"
    },
    {
     "data": {
      "image/png": "[encoded data removed]",
      "text/plain": [
       "<IPython.core.display.Image object>"
      ]
     },
     "metadata": {},
     "output_type": "display_data"
    }
   ],
   "source": [
    "from IPython.display import Image, display\n",
    "from nltk import Tree\n",
    "from nltk.draw.util import CanvasFrame\n",
    "from nltk.draw import TreeWidget\n",
    "\n",
    "for idx, tree_str in enumerate(parsed_sents):\n",
    "    cf = CanvasFrame()\n",
    "    tree = Tree.fromstring(tree_str)\n",
    "    tc = TreeWidget(cf.canvas(), tree)\n",
    "    tc['node_font'] = 'arial 13 bold'\n",
    "    tc['leaf_font'] = 'arial 14'\n",
    "    tc['node_color'] = '#005990'\n",
    "    tc['leaf_color'] = '#3F8F57'\n",
    "    tc['line_color'] = '#175252'\n",
    "    cf.add_widget(tc, 10, 10)\n",
    "    cf.print_to_file('tmp.ps')\n",
    "    cf.destroy()\n",
    "    os.system('convert tmp.ps tmp.png')    # need install: libpng, ghostscript, imagemagic\n",
    "    display(Image(filename='tmp.png'))\n",
    "    os.remove('tmp.ps')\n",
    "    os.remove('tmp.png')"
   ]
  },
  {
   "cell_type": "markdown",
   "metadata": {},
   "source": [
    "<img src=\"http://kingofwallpapers.com/tree/tree-001.jpg\" width=300/>"
   ]
  },
  {
   "cell_type": "markdown",
   "metadata": {
    "collapsed": true
   },
   "source": [
    "### 의미역 결정(SRL)\n",
    "\n",
    "* Semantic Role Labeling\n",
    "    - 술어와 그 술어에 속하는 논항들 사이의 의미 관계를 결정하는 문제\n",
    "* 예제(CoNLL)\n",
    "![](img/slr.png)\n",
    "    - V: verb\n",
    "    - A0: acceptor \n",
    "    - A1: thing accepted \n",
    "    - A2: accepted-from \n",
    "    - A3: attribute \n",
    "    - AM-MOD: modal \n",
    "    - AM-NEG: negation\n",
    "* 참고: [CoNLL-2004 and CoNLL-2005 Shared Tasks](http://www.cs.upc.edu/~srlconll/)\n",
    "\n",
    "### 개체명 인식(NER) 및 단어 의미 중의성 해소(WSD)\n",
    "\n",
    "* 일반적으로 구문분석 전/후로 수행된다.\n",
    "* Named Entity Recognition\n",
    "    - 주로 PLO(Person, Location, Organization) 및 시간 표현을 인식하는 문제\n",
    "    - 통계적 방법을 사용하기도 하지만, 사전 및 간단한 규칙으로도 비교적 쓸만한 성능을 얻는다.\n",
    "* Word Sense Disambiguation\n",
    "    - '배'와 같은 여러 의미를 지니는 단어에 대해, 문맥 상에서 적절한 의미를 졀정하는 문제\n",
    "    - 기계 번역의 경우 target language의 대역어를 선정하는 문제와 연결되어 매우 중요\n",
    "\n",
    "\n",
    "2. 구문 분석을 통해 가능한 일\n",
    "----\n",
    "\n",
    "### 자연어 이해(NLU) & 대화 관리(DM)\n",
    "\n",
    "* Natural Language Understanding\n",
    "    - 사람의 발화나 글을 기계가 이해할 수 이는 구조화된 형태로 데이터베이스에 저장하는 것\n",
    "    - 반대 개념: Natural Language Generation\n",
    "\n",
    "<img src=\"img/nlu.png\" width=500/>\n",
    "\n",
    "* Dialogue Management\n",
    "    - 문맥과 흐름이 있는 사람과의 대화를 화자에 맞춰 관리하는 것\n",
    "\n",
    "<img src=\"img/dm.png\" width=500/>\n",
    "\n",
    "* 참고: [대화 시스템 서비스 동향 및 개발 방법 (DeView 2015)](http://www.slideshare.net/deview/222-52779117)\n",
    "\n",
    "### Question Answering\n",
    "\n",
    "* [Facebook bAbI Task](https://research.facebook.com/researchers/1543934539189348)\n",
    "\n",
    "* Example 1\n",
    "\n",
    "NO | SENTENCE / QUESTION\n",
    "---|---------------------------------\n",
    " 1 | Mary moved to the bathroom.\n",
    " 2 | John went to the hallway.\n",
    " 3 | [Q] Where is Mary?  =>  [A] bathroom (based on 1)\n",
    " 4 | Daniel went back to the hallway.\n",
    " 5 | Sandra moved to the garden.\n",
    " 6 | [Q] Where is Daniel?  =>  [A] hallway (based on 4)\n",
    " 7 | John moved to the office.\n",
    " 8 | Sandra journeyed to the bathroom.\n",
    " 9 | [Q] Where is Daniel?  =>  [A] hallway (based on 4)\n",
    "10 | Mary moved to the hallway.\n",
    "11 | Daniel travelled to the office.\n",
    "12 | [Q] Where is Daniel?  =>  [A] office (based on 11)\n",
    "13 | John went back to the garden.\n",
    "14 | John moved to the bedroom.\n",
    "15 | [Q] Where is Sandra?  =>  [A] bathroom (based on 8)\n",
    "\n",
    "* Example 2\n",
    "\n",
    "```\n",
    "* What American cartoonist is the creator of Andy Lippincott?\n",
    "  Fact: (andy_lippincott, character_created_by, garry_trudeau) \n",
    "* Which forest is Fires Creek in?\n",
    "  Fact: (fires_creek, containedby, nantahala_national_forest)\n",
    "* What does Jimmy Neutron do?\n",
    "  Fact: (jimmy_neutron, fictional_character_occupation, inventor)\n",
    "* What dietary restriction is incompatible with kimchi?\n",
    "  Fact: (kimchi, incompatible_with_dietary_restrictions, veganism)\n",
    "```\n",
    "￼￼￼￼￼￼￼￼￼￼￼￼￼￼\n",
    "\n",
    "3. 구문 분석 기술 발전\n",
    "----\n",
    "\n",
    "구구조 문법과 의존 문법\n",
    "\n",
    "![](https://upload.wikimedia.org/wikipedia/commons/8/8e/Thistreeisillustratingtherelation%28PSG%29.png)\n",
    "\n",
    "### 구구조 문법(Phrase Structure Grammar)\n",
    "\n",
    "* [Lexicalized PCFGs](http://www.cs.columbia.edu/~mcollins/courses/nlp2011/notes/lexpcfgs.pdf) - [Michael Collins](http://www.cs.columbia.edu/~mcollins/)\n",
    "\n",
    "* [Stanford Parser](http://nlp.stanford.edu/software/lex-parser.shtml) - [Christopher Manning](http://nlp.stanford.edu/manning/)\n",
    "\n",
    "* Chart parsing ([CYK algorithm](https://en.wikipedia.org/wiki/CYK_algorithm)) => ___O(n^3)___\n",
    "\n",
    "### 의존 문법(Dependency Grammar)\n",
    "\n",
    "* [CoNLL-X (2006) Multi-lingual Dependency Parsing](http://ilk.uvt.nl/conll/)\n",
    "\n",
    "* [MSTParser](http://www.seas.upenn.edu/~strctlrn/MSTParser/MSTParser.html) (graph based) - [Ryan McDonald](http://www.ryanmcd.com/index.html)\n",
    "    - [Minimum spanning tree](https://en.wikipedia.org/wiki/Minimum_spanning_tree) algorithm => ___O(n^2)___\n",
    "\n",
    "* [MaltParser](http://www.maltparser.org/) (transition based) - [Joakim Nivre](http://stp.lingfil.uu.se/~nivre/)\n",
    "    - [Shift-reduce parser](https://en.wikipedia.org/wiki/Shift-reduce_parser) => ___O(n)___\n",
    "\n",
    "\n",
    "4. 딥러닝을 이용한 구문분석기\n",
    "----\n",
    "\n",
    "* [A Fast and Accurate Dependency Parser using Neural Networks](http://cs.stanford.edu/people/danqi/papers/emnlp2014.pdf) - Chen and Manning, 2014\n",
    "\n",
    "### Arc-Standard Parser\n",
    "\n",
    "* Transition based,\n",
    "    - shift\n",
    "    - left-arc\n",
    "    - right-arc\n",
    "\n",
    "![](http://www.postype.com/files/2016/05/14/14/34/dbf98b20d640cf3fe8daece7108466ac.gif)\n",
    "\n",
    "<img src=\"img/transition.png\" width=700/>\n",
    "\n",
    "### Neural Network Architecture\n",
    "\n",
    "<img src=\"img/stanford_nn.png\" width=700/>\n",
    "\n",
    "### Results\n",
    "\n",
    "<img src=\"img/stanford_results.png\" width=500/>\n",
    "\n",
    "\n",
    "5. SyntaxNet\n",
    "----\n",
    "\n",
    "* [Google 자연어 처리 오픈소스 SyntaxNet 공개](http://cpuu.postype.com/post/166917/)\n",
    "    - [GitHub](https://github.com/tensorflow/models/tree/master/syntaxnet)\n",
    "* [Structured Training for Neural Network Transition-Based Parsing](http://arxiv.org/abs/1506.06158) - Weiss et al. 2015\n",
    "* <s>Globally Normalized Transition-Based Neural Networks - Andor et al. 2016</s>\n",
    "\n",
    "### Neural Network Architecture\n",
    "\n",
    "<img src=\"img/google_nn.png\" width=500/>\n",
    "\n",
    "* 구조적 차이점\n",
    "    - ReLU vs cube\n",
    "    - more hidden layers\n",
    "    - perceptron layer\n",
    "\n",
    "\n",
    "6. 차별성 및 실험 결과\n",
    "----\n",
    "\n",
    "### Semi-Supervised Structured Learning\n",
    "\n",
    "* Backpropagation Pretraining\n",
    "    - with fixed two hidden layers\n",
    "    - like Chen and Manning\n",
    "\n",
    "* Structured Perceptron Training\n",
    "    - output of two hidden layers and softmax layer\n",
    "    - as input of perceptron layer\n",
    "    - find decision sequences with beam search\n",
    "\n",
    "* Incorporating Unlabeled Data\n",
    "    - tri-training\n",
    "    - use only agreed auto-parsed sentence with BerkeleyParser and ZPar\n",
    "\n",
    "#### Results\n",
    "\n",
    "* Comparison with WSJ\n",
    "\n",
    "<img src=\"img/result1.png\" width=400/>\n",
    "\n",
    "* Number of Hidden Layers\n",
    "\n",
    "<img src=\"img/result2.png\" width=400/>\n",
    "\n",
    "* Number of Beams\n",
    "\n",
    "<img src=\"img/result3.png\" width=400/>\n",
    "\n",
    "* Tri-training\n",
    "\n",
    "<img src=\"img/result4.png\" width=300/>\n"
   ]
  },
  {
   "cell_type": "code",
   "execution_count": null,
   "metadata": {
    "collapsed": true
   },
   "outputs": [],
   "source": []
  }
 ],
 "metadata": {
  "kernelspec": {
   "display_name": "Python 2",
   "language": "python",
   "name": "python2"
  },
  "language_info": {
   "codemirror_mode": {
    "name": "ipython",
    "version": 2
   },
   "file_extension": ".py",
   "mimetype": "text/x-python",
   "name": "python",
   "nbconvert_exporter": "python",
   "pygments_lexer": "ipython2",
   "version": "2.7.10"
  }
 },
 "nbformat": 4,
 "nbformat_minor": 0
}
